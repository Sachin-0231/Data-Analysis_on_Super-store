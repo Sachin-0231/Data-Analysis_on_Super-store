{
  "nbformat": 4,
  "nbformat_minor": 0,
  "metadata": {
    "colab": {
      "provenance": [],
      "authorship_tag": "ABX9TyMYoa0kR27ly6jLLSca2m5y",
      "include_colab_link": true
    },
    "kernelspec": {
      "name": "python3",
      "display_name": "Python 3"
    },
    "language_info": {
      "name": "python"
    }
  },
  "cells": [
    {
      "cell_type": "markdown",
      "metadata": {
        "id": "view-in-github",
        "colab_type": "text"
      },
      "source": [
        "<a href=\"https://colab.research.google.com/github/Sachin-0231/Data-Analysis_on_Super-store/blob/main/Collections_and_List_in_Python_Quiz_and_Exersice_solution_infosys.ipynb\" target=\"_parent\"><img src=\"https://colab.research.google.com/assets/colab-badge.svg\" alt=\"Open In Colab\"/></a>"
      ]
    },
    {
      "cell_type": "markdown",
      "source": [
        "Given the list list1 = [\"e\",\"d\",\"u\",\"c\",\"a\",\"t\",\"i\",\"o\",\"n\"]\n",
        "What expression will result in the list [\"c\", \"a\", \"t\"] ?\n",
        "\n",
        "<br>list1[2:5]\n",
        "<br> **list1[3:6]**\n",
        "<br> list1[5:2]\n",
        "<br> list1[3:5]"
      ],
      "metadata": {
        "id": "wAax_GI3rYd_"
      }
    },
    {
      "cell_type": "markdown",
      "source": [
        "##Q2 of 5\n",
        "\n",
        "What is the output of the following code snippet?\n",
        "```\n",
        "num_list = [100.5,30.465,-1.22,20.15]\n",
        "num_list.insert(1, -100.5)\n",
        "num_list.pop(0)\n",
        "num_list.sort()\n",
        "print(num_list[0])\n",
        " ```\n",
        "\n",
        "100.5\n",
        "<br> **-100.5**\n",
        "<br>30.465"
      ],
      "metadata": {
        "id": "mZBk6ChurxJv"
      }
    },
    {
      "cell_type": "markdown",
      "source": [
        "##Q3 of 5\n",
        "\n",
        "Which among the following statements may result in an error?\n",
        "\n",
        "Assume that the statements are executed in the order in which it is written.\n",
        "```\n",
        "a. list1=[5,10,15,20,25]\n",
        "b. print(len(list1))\n",
        "c. print(list1[4])\n",
        "d. print(list1[5])\n",
        "e. print(list1[4:5])\n",
        "f. list1[2]=12\n",
        "g. print(list1)\n",
        "h. list1=list1+[8,9]\n",
        "```\n",
        "b\n",
        "<br> **d**\n",
        "<br>e\n",
        "<br>h"
      ],
      "metadata": {
        "id": "pKGYQUe0sF2u"
      }
    },
    {
      "cell_type": "markdown",
      "source": [
        "##Q4 of 5\n",
        "\n",
        "What is the output of the following code snippet?\n",
        "![day6_screen16.png](data:image/png;base64,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)\n",
        "\n",
        "\n",
        "[0, 0, 0, 0, 0]\n",
        "<br>[10, 20, 30, 40, 50]\n",
        "<br>**[0, 0, 10, 20, 30]**\n",
        "<br>[0, 10, 20, 30, 40]"
      ],
      "metadata": {
        "id": "Pt-zaBDqsao8"
      }
    },
    {
      "cell_type": "markdown",
      "source": [
        "##Q5 of 5\n",
        "\n",
        "How many comparisons will take place before flag becomes 1?\n",
        "```\n",
        "num_list = [1,33,31,5,26,7,8,92,10]\n",
        "num = 7\n",
        "flag = 0\n",
        "for item in num_list:\n",
        "    if(item == num):\n",
        "        flag = 1\n",
        "    else:\n",
        "        continue\n",
        "if(flag == 1):\n",
        "    print(num, \"found in the list\")\n",
        "else:\n",
        "    print(num, \"NOT found in the list\")\n",
        " ```\n",
        "\n",
        "**6**\n",
        "<br>5\n",
        "<br>1\n",
        "<br>9"
      ],
      "metadata": {
        "id": "I-SiE9ias019"
      }
    },
    {
      "cell_type": "markdown",
      "source": [],
      "metadata": {
        "id": "SgYaIhSisj2U"
      }
    },
    {
      "cell_type": "markdown",
      "source": [
        "#Exercise on List - Level 2\n"
      ],
      "metadata": {
        "id": "hTGnKQCAtnak"
      }
    },
    {
      "cell_type": "markdown",
      "source": [
        "Problem Statement\n",
        "\n",
        "Given a list of integer values. Write a python program to check whether it contains same number in adjacent position. Display the count of such adjacent occurrences\n",
        "\n",
        "Sample Input---------------------Expected Output\n",
        "\n",
        "[1,1,5,100,-20,-20,6,0,0]--------3\n",
        "\n",
        "[10,20,30,40,30,20]--------------0\n",
        "\n",
        "[1,2,2,3,4,4,4,10]-------------------3\n",
        "\n"
      ],
      "metadata": {
        "id": "XuJHFUpGtrtb"
      }
    },
    {
      "cell_type": "code",
      "source": [
        "#lex_auth_012693750719488000124\n",
        "\n",
        "def get_count(num_list):\n",
        "    count=0\n",
        "\n",
        "    # Write your logic here\n",
        "    for i in range(1,len(num_list)):\n",
        "        if num_list[i-1] == num_list[i]:\n",
        "            count+=1\n",
        "\n",
        "    return count\n",
        "\n",
        "#provide different values in list and test your program\n",
        "num_list=[1,1,5,100,-20,-20,6,0,0]\n",
        "print(get_count(num_list))"
      ],
      "metadata": {
        "id": "niv54y4wufIS"
      },
      "execution_count": null,
      "outputs": []
    }
  ]
}